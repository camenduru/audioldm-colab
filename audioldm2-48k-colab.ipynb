{
  "cells": [
    {
      "cell_type": "markdown",
      "metadata": {
        "id": "view-in-github"
      },
      "source": [
        "[![Open In Colab](https://colab.research.google.com/assets/colab-badge.svg)](https://colab.research.google.com/github/camenduru/audioldm-colab/blob/main/audioldm2-48k-colab.ipynb)"
      ]
    },
    {
      "cell_type": "code",
      "execution_count": null,
      "metadata": {
        "id": "ocSoqYj9aMBC"
      },
      "outputs": [],
      "source": [
        "%cd /content\n",
        "!git clone -b dev https://github.com/camenduru/AudioLDM_48K_Text-to-HiFiAudio_Generation-hf /content/audioldm2\n",
        "!pip install -q git+https://github.com/huggingface/diffusers\n",
        "!pip install -q git+https://github.com/camenduru/AudioLDM2@v1.0\n",
        "!pip install -q transformers==4.30.2 huggingface_hub timm gradio\n",
        "\n",
        "%cd /content/audioldm2\n",
        "!python app.py"
      ]
    }
  ],
  "metadata": {
    "accelerator": "GPU",
    "colab": {
      "provenance": []
    },
    "gpuClass": "standard",
    "kernelspec": {
      "display_name": "Python 3",
      "name": "python3"
    },
    "language_info": {
      "name": "python"
    }
  },
  "nbformat": 4,
  "nbformat_minor": 0
}
